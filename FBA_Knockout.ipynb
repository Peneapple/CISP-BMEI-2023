{
 "cells": [
  {
   "cell_type": "code",
   "execution_count": 2,
   "id": "6b3fd39b",
   "metadata": {},
   "outputs": [],
   "source": [
    "import cobra\n",
    "import csv\n",
    "\n",
    "def two_gene_ko (x):\n",
    "    start = time.time()\n",
    "    filename = x+'_two_gene_ko'\n",
    "    with open(filename, mode='a', newline='') as csvfile:\n",
    "        writer = csv.writer(csvfile)\n",
    "        firstrow = ['geneA, geneB, etoh_0, etoh_1']\n",
    "        writer.writerow(firstrow)\n",
    "    \n",
    "        model = cobra.io.read_sbml_model('iML1515.xml')\n",
    "        \n",
    "        geneid = []\n",
    "        for i in model.genes:\n",
    "            geneid.append(i.id)\n",
    "        \n",
    "        twogene=list(combinations(geneid,2))\n",
    "               \n",
    "        medium = model.medium\n",
    "        medium[\"EX_o2_e\"] = 0\n",
    "        model.medium = medium\n",
    "        \n",
    "        state_0   = cobra.flux_analysis.pfba(model)      \n",
    " \n",
    "        etoh_0    = round(state_0['EX_etoh_e'], 3)\n",
    "\n",
    "        for i in tqdm(twogene):   \n",
    "            with model:                \n",
    "                try:            \n",
    "                    model.genes.get_by_id(i[0]).knock_out()\n",
    "                    model.genes.get_by_id(i[1]).knock_out()\n",
    "\n",
    "                    state_1   = cobra.flux_analysis.pfba(model)\n",
    "  \n",
    "                    etoh_1    = round(state_1['EX_etoh_e'], 3)\n",
    "     \n",
    "\n",
    "                    writer.writerow([i, etoh_0, etoh_1])\n",
    "                except:\n",
    "                    writer.writerow([i, 'fail'])\n",
    "    end = time.time()\n",
    "    gap = end - start\n",
    "    print(x, gap)"
   ]
  },
  {
   "cell_type": "code",
   "execution_count": null,
   "id": "2254a7be",
   "metadata": {},
   "outputs": [],
   "source": []
  }
 ],
 "metadata": {
  "kernelspec": {
   "display_name": "Python 3 (ipykernel)",
   "language": "python",
   "name": "python3"
  },
  "language_info": {
   "codemirror_mode": {
    "name": "ipython",
    "version": 3
   },
   "file_extension": ".py",
   "mimetype": "text/x-python",
   "name": "python",
   "nbconvert_exporter": "python",
   "pygments_lexer": "ipython3",
   "version": "3.8.16"
  }
 },
 "nbformat": 4,
 "nbformat_minor": 5
}
